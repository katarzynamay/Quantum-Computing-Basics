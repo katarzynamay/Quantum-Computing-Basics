{
 "cells": [
  {
   "cell_type": "markdown",
   "id": "elder-astronomy",
   "metadata": {},
   "source": [
    "## HADAMARD GATE"
   ]
  },
  {
   "cell_type": "markdown",
   "id": "fc4cf324",
   "metadata": {},
   "source": [
    "#### HADAMARD TRANSFORMATION\n",
    "\n",
    "$  H := \\frac{\\sigma_{x}+ \\sigma_{z}}{\\sqrt{2}} $\n",
    "\n",
    "$  HH^{\\dagger} =  H^{\\dagger}H = I \\quad (Unitarity)$ \n",
    "\n",
    "$  H = H^{\\dagger} \\quad (Hermiticity) $"
   ]
  },
  {
   "cell_type": "markdown",
   "id": "27389cd8",
   "metadata": {},
   "source": [
    "##### IN THE BASIS  $ \\; \\vert 0 \\rangle ,\\;  \\vert 1 \\rangle $\n",
    "\n",
    "$ \\sigma_{x} = $\n",
    "$\n",
    "\\begin{pmatrix}\n",
    "0 & 1 \\\\\n",
    "1 & 0 \\\\\n",
    "\\end{pmatrix} \\quad\n",
    "$\n",
    "$ \\sigma_{z} = $\n",
    "$\n",
    "\\begin{pmatrix}\n",
    "1 & 0 \\\\\n",
    "0 & -1 \\\\\n",
    "\\end{pmatrix} \n",
    "$\n",
    "\n",
    "\n",
    "$\\frac{\\sigma_{x}+ \\sigma_{z}}{\\sqrt{2}} = $\n",
    "$\n",
    "\\frac{1}{\\sqrt{2}}\n",
    "\\begin{pmatrix}\n",
    "0 & 1 \\\\\n",
    "1 & 0 \\\\\n",
    "\\end{pmatrix} +\n",
    "$\n",
    "$\n",
    "\\frac{1}{\\sqrt{2}}\n",
    "\\begin{pmatrix}\n",
    "1 & 0 \\\\\n",
    "0 & -1 \\\\\n",
    "\\end{pmatrix} =\n",
    "$\n",
    "$\n",
    "\\frac{1}{\\sqrt{2}}\n",
    "\\begin{pmatrix}\n",
    "1 & 1 \\\\\n",
    "1 & -1 \\\\\n",
    "\\end{pmatrix}\n",
    "$\n",
    "\n",
    "\n",
    "**The matrix representation of the Hadamard gate in the standard basis**\n",
    "\n",
    "$\n",
    "H = \\frac{1}{\\sqrt{2}}\\begin{pmatrix}\n",
    "1 & 1 \\\\\n",
    "1 & -1 \\\\\n",
    "\\end{pmatrix}\n",
    "$"
   ]
  },
  {
   "cell_type": "markdown",
   "id": "fe3ee322",
   "metadata": {},
   "source": [
    "#### APPLYING HADAMARD GATE\n",
    "\n",
    "$\\vert\\Phi\\rangle = \\alpha_{ 0} \\vert0\\rangle + \\alpha_{ 1}  \\vert1\\rangle $\n",
    "\n",
    "$|\\alpha_{ 0}|^2+|\\alpha{ 1}|^2 = 1 $\n",
    "\n",
    "$\\vert 0 \\rangle = $ \n",
    "$\n",
    "\\begin{pmatrix}\n",
    "1 \\\\\n",
    "0 \\\\\n",
    "\\end{pmatrix} \\quad\n",
    "$\n",
    "$\\vert 1 \\rangle = $ \n",
    "$\n",
    "\\begin{pmatrix}\n",
    "0 \\\\\n",
    "1 \\\\\n",
    "\\end{pmatrix}\n",
    "$\n",
    "\n",
    "<br />\n",
    "\n",
    "\n",
    "$  H \\vert 0 \\rangle = \\vert + \\rangle = \\frac{1}{\\sqrt{2}} \\vert0\\rangle + \\frac{1}{\\sqrt{2}} \\vert1\\rangle = $\n",
    "$\n",
    "\\frac{1}{\\sqrt{2}}\\begin{pmatrix}\n",
    "1 \\\\\n",
    "1 \\\\\n",
    "\\end{pmatrix}\n",
    "$\n",
    "\n",
    "\n",
    "$  H \\vert 1 \\rangle = \\vert - \\rangle = \\frac{1}{\\sqrt{2}} \\vert0\\rangle - \\frac{1}{\\sqrt{2}} \\vert1\\rangle =$\n",
    "$\n",
    "\\frac{1}{\\sqrt{2}}\\begin{pmatrix}\n",
    " 1 \\\\\n",
    "-1 \\\\\n",
    "\\end{pmatrix}\n",
    "$\n",
    "\n",
    "$  H \\vert + \\rangle = \\vert 0 \\rangle $\n",
    "\n",
    "$  H \\vert - \\rangle = \\vert 1 \\rangle $"
   ]
  },
  {
   "cell_type": "code",
   "execution_count": 1,
   "id": "47c711a8",
   "metadata": {},
   "outputs": [
    {
     "data": {
      "text/plain": [
       "<AccountProvider for IBMQ(hub='ibm-q', group='open', project='main')>"
      ]
     },
     "execution_count": 1,
     "metadata": {},
     "output_type": "execute_result"
    }
   ],
   "source": [
    "from qiskit import QuantumCircuit, QuantumRegister, ClassicalRegister, execute\n",
    "from qiskit.quantum_info import Statevector\n",
    "from qiskit.visualization import plot_bloch_multivector, plot_histogram\n",
    "\n",
    "from qiskit import IBMQ \n",
    "from qiskit.providers.ibmq import least_busy\n",
    "from qiskit.tools.monitor import job_monitor\n",
    "\n",
    "IBMQ.load_account()"
   ]
  },
  {
   "cell_type": "markdown",
   "id": "2a0d967d",
   "metadata": {},
   "source": [
    "### STATEVECTOR QISKIT SIMULATOR"
   ]
  },
  {
   "cell_type": "code",
   "execution_count": 12,
   "id": "e6c5b043",
   "metadata": {
    "scrolled": true
   },
   "outputs": [
    {
     "name": "stdout",
     "output_type": "stream",
     "text": [
      "\n",
      "-------- |0> ------------\n",
      "\n"
     ]
    },
    {
     "data": {
      "text/latex": [
       "$$\n",
       "\n",
       "\\begin{bmatrix}\n",
       "1 & 0  \\\\\n",
       " \\end{bmatrix}\n",
       "$$"
      ],
      "text/plain": [
       "<IPython.core.display.Latex object>"
      ]
     },
     "metadata": {},
     "output_type": "display_data"
    },
    {
     "name": "stdout",
     "output_type": "stream",
     "text": [
      "\n",
      "-------- H |0> ----------\n",
      "\n"
     ]
    },
    {
     "data": {
      "text/latex": [
       "$$\n",
       "\n",
       "\\begin{bmatrix}\n",
       "\\tfrac{1}{\\sqrt{2}} & \\tfrac{1}{\\sqrt{2}}  \\\\\n",
       " \\end{bmatrix}\n",
       "$$"
      ],
      "text/plain": [
       "<IPython.core.display.Latex object>"
      ]
     },
     "metadata": {},
     "output_type": "display_data"
    },
    {
     "name": "stdout",
     "output_type": "stream",
     "text": [
      "\n",
      "----- CIRCUIT H |0> -----\n",
      "\n"
     ]
    },
    {
     "data": {
      "image/png": "[encoded data removed]",
      "text/plain": [
       "<PIL.Image.Image image mode=RGB size=438x59 at 0x194F83C8A60>"
      ]
     },
     "metadata": {},
     "output_type": "display_data"
    }
   ],
   "source": [
    "from qiskit import QuantumCircuit, QuantumRegister, ClassicalRegister, execute, Aer\n",
    "from qiskit.quantum_info import Statevector\n",
    "\n",
    "qr = QuantumRegister(1, \"qbit\")\n",
    "qc = QuantumCircuit(qr)\n",
    "\n",
    "qc.initialize(Statevector.from_label('0'))\n",
    "\n",
    "state0 = Statevector(qc)\n",
    "\n",
    "#Hadamard Gate\n",
    "qc.h(qr)\n",
    "\n",
    "state1 = Statevector(qc)\n",
    "\n",
    "print(\"\\n-------- |0> ------------\\n\")\n",
    "display(state0.draw('latex'))\n",
    "\n",
    "print(\"\\n-------- H |0> ----------\\n\")\n",
    "display(state1.draw('latex'))\n",
    "\n",
    "print(\"\\n----- CIRCUIT H |0> -----\\n\")\n",
    "display(qc.draw(\"latex\"))\n"
   ]
  },
  {
   "cell_type": "markdown",
   "id": "f9c14522",
   "metadata": {},
   "source": [
    "### IBM QPU"
   ]
  },
  {
   "cell_type": "code",
   "execution_count": 2,
   "id": "62910059",
   "metadata": {},
   "outputs": [
    {
     "name": "stdout",
     "output_type": "stream",
     "text": [
      "Least Busy: ibmq_santiago\n",
      "Job Status: job has successfully run\n",
      "\n",
      "--------------- |0> -----------------\n",
      "\n"
     ]
    },
    {
     "data": {
      "text/latex": [
       "$$\n",
       "\n",
       "\\begin{bmatrix}\n",
       "1 & 0  \\\\\n",
       " \\end{bmatrix}\n",
       "$$"
      ],
      "text/plain": [
       "<IPython.core.display.Latex object>"
      ]
     },
     "metadata": {},
     "output_type": "display_data"
    },
    {
     "name": "stdout",
     "output_type": "stream",
     "text": [
      "\n",
      "--------------- H |0> ---------------\n",
      "\n"
     ]
    },
    {
     "data": {
      "text/latex": [
       "$$\n",
       "\n",
       "\\begin{bmatrix}\n",
       "\\tfrac{1}{\\sqrt{2}} & \\tfrac{1}{\\sqrt{2}}  \\\\\n",
       " \\end{bmatrix}\n",
       "$$"
      ],
      "text/plain": [
       "<IPython.core.display.Latex object>"
      ]
     },
     "metadata": {},
     "output_type": "display_data"
    },
    {
     "name": "stdout",
     "output_type": "stream",
     "text": [
      "\n",
      "---- H |0> IBM QPU 1024 SHOTS -------\n",
      "\n",
      "{'0': 504, '1': 520}\n"
     ]
    },
    {
     "data": {
      "image/png": "[encoded data removed]",
      "text/plain": [
       "<Figure size 504x360 with 1 Axes>"
      ]
     },
     "metadata": {
      "needs_background": "light"
     },
     "output_type": "display_data"
    }
   ],
   "source": [
    "qr = QuantumRegister(1, \"qbit\")\n",
    "cr = ClassicalRegister(1, \"cbit\")\n",
    "qc = QuantumCircuit(qr, cr)\n",
    "\n",
    "qc.initialize(Statevector.from_label('0'))\n",
    "\n",
    "state0 = Statevector(qc)\n",
    "\n",
    "#Hadamard Gate\n",
    "qc.h(qr)\n",
    "\n",
    "state1 = Statevector(qc)\n",
    "\n",
    "qc.measure(qr, cr)\n",
    "\n",
    "# IBM QPU\n",
    "provider   = IBMQ.get_provider(hub = 'ibm-q')\n",
    "least_busy = least_busy(provider.backends( \n",
    "    filters = lambda b: \n",
    "    b.configuration().n_qubits >= 2 and not \n",
    "    b.configuration().simulator and \n",
    "    b.status().operational == True))\n",
    "\n",
    "print(f\"Least Busy: {least_busy}\")\n",
    "\n",
    "executed = execute(qc, backend = least_busy)\n",
    "job_monitor(executed, interval = 2)\n",
    "result  = executed.result()\n",
    "results_qpu = result.get_counts(qc)\n",
    "\n",
    "print(\"\\n--------------- |0> -----------------\\n\")\n",
    "display(state0.draw('latex'))\n",
    "\n",
    "print(\"\\n--------------- H |0> ---------------\\n\")\n",
    "display(state1.draw('latex'))\n",
    "\n",
    "print(\"\\n---- H |0> IBM QPU 1024 SHOTS -------\\n\")\n",
    "plot_histogram(results_qpu)\n",
    "print(results_qpu)"
   ]
  }
 ],
 "metadata": {
  "kernelspec": {
   "display_name": "Python 3 (ipykernel)",
   "language": "python",
   "name": "python3"
  },
  "language_info": {
   "codemirror_mode": {
    "name": "ipython",
    "version": 3
   },
   "file_extension": ".py",
   "mimetype": "text/x-python",
   "name": "python",
   "nbconvert_exporter": "python",
   "pygments_lexer": "ipython3",
   "version": "3.8.10"
  }
 },
 "nbformat": 4,
 "nbformat_minor": 5
}
