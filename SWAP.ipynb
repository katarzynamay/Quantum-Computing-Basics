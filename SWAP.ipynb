{
 "cells": [
  {
   "cell_type": "markdown",
   "id": "elder-astronomy",
   "metadata": {},
   "source": [
    "## SWAP GATE"
   ]
  },
  {
   "cell_type": "markdown",
   "id": "33b69c0b",
   "metadata": {},
   "source": [
    "$  SWAP :=  \\frac{1}{2}(\\mathbb{1} + \\vec{\\sigma_{A}} \\cdot \\vec{\\sigma_{B}}) $\n",
    "\n",
    "$ \\frac{1}{2}(\\mathbb{1} + \\vec{\\sigma_{A}} \\cdot \\vec{\\sigma_{B}}) \\vert \\varphi_A \\psi_B  \\rangle = \\vert \\psi_A \\varphi_B \\rangle $\n",
    "\n",
    "##### IN THE BASIS  $ \\; \\vert 0 \\rangle ,\\;  \\vert 1 \\rangle $\n",
    "\n",
    "$ \\sigma_{x} = $\n",
    "$\n",
    "\\begin{pmatrix}\n",
    "0 & 1 \\\\\n",
    "1 & 0 \\\\\n",
    "\\end{pmatrix} \\quad\n",
    "$\n",
    "$ \\sigma_{y} = $\n",
    "$\n",
    "\\begin{pmatrix}\n",
    "0 & -i \\\\\n",
    "i & 0 \\\\\n",
    "\\end{pmatrix} \\quad\n",
    "$\n",
    "$ \\sigma_{z} = $\n",
    "$\n",
    "\\begin{pmatrix}\n",
    "1 & 0 \\\\\n",
    "0 & -1 \\\\\n",
    "\\end{pmatrix} \n",
    "$"
   ]
  },
  {
   "cell_type": "markdown",
   "id": "cc94999a",
   "metadata": {},
   "source": [
    "$ \\vec{\\sigma_{A}} \\cdot \\vec{\\sigma_{B}} = \\sigma_{x} \\otimes \\sigma_{x} + \\sigma_{y} \\otimes \\sigma_{y} + \\sigma_{z} \\otimes \\sigma_{z} $\n",
    "\n",
    "$\\vec{\\sigma_{A}} \\cdot \\vec{\\sigma_{B}} = $\n",
    "$\n",
    "\\begin{pmatrix}\n",
    "1 &  0 &  0 &  0 \\\\\n",
    "0 & -1 &  2 &  0 \\\\\n",
    "0 &  2 & -1 &  0 \\\\\n",
    "0 &  0 &  0 &  1 \\\\\n",
    "\\end{pmatrix}\n",
    "$\n",
    "\n",
    "\n",
    "$\\frac{1}{2}(\\mathbb{1} + \\vec{\\sigma_{A}} \\cdot \\vec{\\sigma_{B}}) =$\n",
    "$\\frac{1}{2} \\big(\n",
    "\\begin{pmatrix}\n",
    "1 & 0 & 0 & 0 \\\\\n",
    "0 & 1 & 0 & 0 \\\\\n",
    "0 & 0 & 1 & 0 \\\\\n",
    "0 & 0 & 0 & 1 \\\\\n",
    "\\end{pmatrix} +\n",
    "\\begin{pmatrix}\n",
    "1 &  0 &  0 &  0 \\\\\n",
    "0 & -1 &  2 &  0 \\\\\n",
    "0 &  2 & -1 &  0 \\\\\n",
    "0 &  0 &  0 &  1 \\\\\n",
    "\\end{pmatrix}\n",
    "\\big) =\n",
    "$\n",
    "$\n",
    "\\begin{pmatrix}\n",
    "1 &  0 &  0 &  0 \\\\\n",
    "0 &  0 &  1 &  0 \\\\\n",
    "0 &  1 &  0 &  0 \\\\\n",
    "0 &  0 &  0 &  1 \\\\\n",
    "\\end{pmatrix}\n",
    "$\n",
    "\n",
    "<br />\n",
    "\n",
    "\n",
    "**The matrix representation of the SWAP gate in the standard basis**\n",
    "\n",
    "$ U_{SWAP} = $\n",
    "$\n",
    "\\begin{pmatrix}\n",
    "1 &  0 &  0 &  0 \\\\\n",
    "0 &  0 &  1 &  0 \\\\\n",
    "0 &  1 &  0 &  0 \\\\\n",
    "0 &  0 &  0 &  1 \\\\\n",
    "\\end{pmatrix}\n",
    "$"
   ]
  },
  {
   "cell_type": "markdown",
   "id": "a4d740f7",
   "metadata": {},
   "source": [
    "#### APPLYING SWAP GATE\n",
    "\n",
    "$\\vert\\Phi\\rangle = \\alpha_{ 0} \\vert0\\rangle + \\alpha_{ 1}  \\vert1\\rangle $\n",
    "\n",
    "$|\\alpha_{ 0}|^2+|\\alpha{ 1}|^2 = 1 $\n",
    "\n",
    "$\\vert 0 \\rangle = $ \n",
    "$\n",
    "\\begin{pmatrix}\n",
    "1 \\\\\n",
    "0 \\\\\n",
    "\\end{pmatrix} \\quad\n",
    "$\n",
    "$\\vert 1 \\rangle = $ \n",
    "$\n",
    "\\begin{pmatrix}\n",
    "0 \\\\\n",
    "1 \\\\\n",
    "\\end{pmatrix}\n",
    "$"
   ]
  },
  {
   "cell_type": "markdown",
   "id": "1f4f69ae",
   "metadata": {},
   "source": [
    "<br />\n",
    "\n",
    "$ U_{SWAP}  \\vert 0 1 \\rangle = \\vert 1 0  \\rangle $\n",
    "\n",
    "<br />\n",
    "\n",
    "\n",
    "$\n",
    "\\begin{pmatrix}\n",
    "1 &  0 &  0 &  0 \\\\\n",
    "0 &  0 &  1 &  0 \\\\\n",
    "0 &  1 &  0 &  0 \\\\\n",
    "0 &  0 &  0 &  1 \\\\\n",
    "\\end{pmatrix}\n",
    "$\n",
    "$\n",
    "\\begin{pmatrix}\n",
    "0 \\\\\n",
    "1 \\\\\n",
    "0 \\\\\n",
    "0 \\\\\n",
    "\\end{pmatrix} =\n",
    "$\n",
    "$\n",
    "\\begin{pmatrix}\n",
    "0 \\\\\n",
    "0 \\\\\n",
    "1 \\\\\n",
    "0 \\\\\n",
    "\\end{pmatrix}\n",
    "$"
   ]
  },
  {
   "cell_type": "markdown",
   "id": "9781bf1e",
   "metadata": {},
   "source": [
    "### STATEVECTOR QISKIT SIMULATOR"
   ]
  },
  {
   "cell_type": "code",
   "execution_count": 3,
   "id": "dc005cf9",
   "metadata": {},
   "outputs": [
    {
     "name": "stdout",
     "output_type": "stream",
     "text": [
      "\n",
      "------------- |0> x |1> -----------\n",
      "\n"
     ]
    },
    {
     "data": {
      "text/latex": [
       "$$\n",
       "\n",
       "\\begin{bmatrix}\n",
       "0 & 1 & 0 & 0  \\\\\n",
       " \\end{bmatrix}\n",
       "$$"
      ],
      "text/plain": [
       "<IPython.core.display.Latex object>"
      ]
     },
     "metadata": {},
     "output_type": "display_data"
    },
    {
     "name": "stdout",
     "output_type": "stream",
     "text": [
      "\n",
      "--------- SWAP |0> x |1> ----------\n",
      "\n"
     ]
    },
    {
     "data": {
      "text/latex": [
       "$$\n",
       "\n",
       "\\begin{bmatrix}\n",
       "0 & 0 & 1 & 0  \\\\\n",
       " \\end{bmatrix}\n",
       "$$"
      ],
      "text/plain": [
       "<IPython.core.display.Latex object>"
      ]
     },
     "metadata": {},
     "output_type": "display_data"
    },
    {
     "name": "stdout",
     "output_type": "stream",
     "text": [
      "\n",
      "------ CIRCUIT SWAP |0> x |1> -----\n",
      "\n"
     ]
    },
    {
     "data": {
      "image/png": "[encoded data removed]",
      "text/plain": [
       "<PIL.Image.Image image mode=RGB size=471x98 at 0x207B1D8D910>"
      ]
     },
     "metadata": {},
     "output_type": "display_data"
    }
   ],
   "source": [
    "from qiskit import QuantumCircuit, QuantumRegister, ClassicalRegister, execute, Aer\n",
    "from qiskit.quantum_info import Statevector\n",
    "\n",
    "qr = QuantumRegister(2, \"qbit\")\n",
    "qc = QuantumCircuit(qr)\n",
    "\n",
    "qc.initialize(Statevector.from_label('01'))\n",
    "\n",
    "state0 = Statevector(qc)\n",
    "\n",
    "#SWAP Gate\n",
    "qc.swap(qr[0], qr[1])\n",
    "\n",
    "state1 = Statevector(qc)\n",
    "\n",
    "print(\"\\n------------- |0> x |1> -----------\\n\")\n",
    "display(state0.draw('latex'))\n",
    "\n",
    "print(\"\\n--------- SWAP |0> x |1> ----------\\n\")\n",
    "display(state1.draw('latex'))\n",
    "\n",
    "print(\"\\n------ CIRCUIT SWAP |0> x |1> -----\\n\")\n",
    "display(qc.draw(\"latex\"))"
   ]
  },
  {
   "cell_type": "markdown",
   "id": "82ddfd2a",
   "metadata": {},
   "source": [
    "### IBM QPU"
   ]
  },
  {
   "cell_type": "code",
   "execution_count": 2,
   "id": "12ec49fc",
   "metadata": {},
   "outputs": [
    {
     "name": "stdout",
     "output_type": "stream",
     "text": [
      "Least Busy: ibmq_santiago\n",
      "Job Status: job has successfully run\n",
      "\n",
      "---- |0> x |1> ---------\n",
      "\n"
     ]
    },
    {
     "data": {
      "text/latex": [
       "$$\n",
       "\n",
       "\\begin{bmatrix}\n",
       "0 & 1 & 0 & 0  \\\\\n",
       " \\end{bmatrix}\n",
       "$$"
      ],
      "text/plain": [
       "<IPython.core.display.Latex object>"
      ]
     },
     "metadata": {},
     "output_type": "display_data"
    },
    {
     "name": "stdout",
     "output_type": "stream",
     "text": [
      "\n",
      "---- SWAP |0> x |1> ----\n",
      "\n",
      "{'00': 60, '01': 26, '10': 923, '11': 15}\n"
     ]
    },
    {
     "data": {
      "image/png": "[encoded data removed]",
      "text/plain": [
       "<Figure size 504x360 with 1 Axes>"
      ]
     },
     "metadata": {
      "needs_background": "light"
     },
     "output_type": "display_data"
    }
   ],
   "source": [
    "from qiskit import QuantumCircuit, QuantumRegister, ClassicalRegister, execute\n",
    "from qiskit.quantum_info import Statevector\n",
    "from qiskit.visualization import plot_bloch_multivector, plot_histogram\n",
    "\n",
    "from qiskit import IBMQ \n",
    "from qiskit.providers.ibmq import least_busy\n",
    "from qiskit.tools.monitor import job_monitor\n",
    "\n",
    "qr = QuantumRegister(2, \"qbit\")\n",
    "cr = ClassicalRegister(2, \"cbit\")\n",
    "qc = QuantumCircuit(qr, cr)\n",
    "\n",
    "qc.initialize(Statevector.from_label('01'))\n",
    "\n",
    "state0 = Statevector(qc)\n",
    "\n",
    "#SWAP Gate\n",
    "qc.swap(qr[0], qr[1])\n",
    "\n",
    "qc.measure(qr, cr)\n",
    "\n",
    "# IBM QPU\n",
    "IBMQ.load_account()\n",
    "provider   = IBMQ.get_provider(hub = 'ibm-q')\n",
    "least_busy = least_busy(provider.backends( \n",
    "    filters = lambda b: \n",
    "    b.configuration().n_qubits >= 2 and not \n",
    "    b.configuration().simulator and \n",
    "    b.status().operational == True))\n",
    "\n",
    "print(f\"Least Busy: {least_busy}\")\n",
    "\n",
    "executed = execute(qc, backend = least_busy)\n",
    "job_monitor(executed, interval = 2)\n",
    "result  = executed.result()\n",
    "results_qpu = result.get_counts(qc)\n",
    "\n",
    "print(\"\\n---- |0> x |1> ---------\\n\")\n",
    "display(state0.draw('latex'))\n",
    "\n",
    "print(\"\\n---- SWAP |0> x |1> ----\\n\")\n",
    "plot_histogram(results_qpu)\n",
    "print(results_qpu)\n"
   ]
  },
  {
   "cell_type": "markdown",
   "id": "0fb75525",
   "metadata": {},
   "source": [
    "### QPU AND QASM SIMULATOR - COMPARISON"
   ]
  },
  {
   "cell_type": "code",
   "execution_count": 1,
   "id": "a390fd66",
   "metadata": {},
   "outputs": [
    {
     "name": "stdout",
     "output_type": "stream",
     "text": [
      "Least Busy: ibmq_santiago\n",
      "Job Status: job has successfully run\n",
      "\n",
      "---- |0> x |1> --------------------------------------\n",
      "\n"
     ]
    },
    {
     "data": {
      "text/latex": [
       "$$\n",
       "\n",
       "\\begin{bmatrix}\n",
       "0 & 1 & 0 & 0  \\\\\n",
       " \\end{bmatrix}\n",
       "$$"
      ],
      "text/plain": [
       "<IPython.core.display.Latex object>"
      ]
     },
     "metadata": {},
     "output_type": "display_data"
    },
    {
     "name": "stdout",
     "output_type": "stream",
     "text": [
      "\n",
      "---- SWAP |0> x |1> QASM SIMULATOR 1024 SHOTS--------\n",
      "\n",
      "{'10': 1024}\n",
      "\n",
      "---- SWAP |0> x |1> IBM QPU 1024 SHOTS --------------\n",
      "\n",
      "{'00': 58, '01': 29, '10': 923, '11': 14}\n"
     ]
    }
   ],
   "source": [
    "from qiskit import QuantumCircuit, QuantumRegister, ClassicalRegister, execute, Aer\n",
    "\n",
    "from qiskit.quantum_info import Statevector\n",
    "from qiskit.visualization import plot_bloch_multivector, plot_histogram\n",
    "\n",
    "from qiskit import IBMQ\n",
    "from qiskit.providers.ibmq import least_busy\n",
    "from qiskit.tools.monitor import job_monitor\n",
    "\n",
    "qr = QuantumRegister(2, \"qbit\")\n",
    "cr = ClassicalRegister(2, \"cbit\")\n",
    "qc = QuantumCircuit(qr, cr)\n",
    "\n",
    "qc.initialize(Statevector.from_label('01'))\n",
    "\n",
    "state0 = Statevector(qc)\n",
    "\n",
    "#SWAP Gate\n",
    "qc.swap(qr[0], qr[1])\n",
    "\n",
    "qc.measure(qr, cr)\n",
    "\n",
    "# QASM SIMULATOR\n",
    "qasm     = Aer.get_backend('qasm_simulator')\n",
    "\n",
    "executed = execute(qc, qasm)\n",
    "result   = executed.result()\n",
    "results_qasm  = result.get_counts(qc)\n",
    "\n",
    "# IBM QPU\n",
    "IBMQ.load_account()\n",
    "provider   = IBMQ.get_provider(hub = 'ibm-q')\n",
    "least_busy = least_busy(provider.backends( \n",
    "    filters = lambda b: \n",
    "    b.configuration().n_qubits >= 2 and not \n",
    "    b.configuration().simulator and \n",
    "    b.status().operational == True))\n",
    "\n",
    "print(f\"Least Busy: {least_busy}\")\n",
    "\n",
    "executed = execute(qc, backend = least_busy)\n",
    "job_monitor(executed, interval = 2)\n",
    "result  = executed.result()\n",
    "results_qpu = result.get_counts(qc)\n",
    "\n",
    "print(\"\\n---- |0> x |1> --------------------------------------\\n\")\n",
    "display(state0.draw('latex'))\n",
    "\n",
    "print(\"\\n---- SWAP |0> x |1> QASM SIMULATOR 1024 SHOTS--------\\n\")\n",
    "print(results_qasm)\n",
    "\n",
    "print(\"\\n---- SWAP |0> x |1> IBM QPU 1024 SHOTS --------------\\n\")\n",
    "print(results_qpu)"
   ]
  }
 ],
 "metadata": {
  "kernelspec": {
   "display_name": "Python 3 (ipykernel)",
   "language": "python",
   "name": "python3"
  },
  "language_info": {
   "codemirror_mode": {
    "name": "ipython",
    "version": 3
   },
   "file_extension": ".py",
   "mimetype": "text/x-python",
   "name": "python",
   "nbconvert_exporter": "python",
   "pygments_lexer": "ipython3",
   "version": "3.8.10"
  }
 },
 "nbformat": 4,
 "nbformat_minor": 5
}
